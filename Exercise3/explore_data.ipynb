{
 "cells": [
  {
   "cell_type": "code",
   "execution_count": 115,
   "metadata": {},
   "outputs": [],
   "source": [
    "import numpy as np\n",
    "import pandas as pd\n",
    "import matplotlib.pyplot as plt\n",
    "from matplotlib import style\n",
    "style.use('fivethirtyeight')\n",
    "import matplotlib.cm as cm\n",
    "from collections import Counter"
   ]
  },
  {
   "cell_type": "markdown",
   "metadata": {},
   "source": [
    "## KNN Classification"
   ]
  },
  {
   "cell_type": "code",
   "execution_count": 91,
   "metadata": {},
   "outputs": [
    {
     "data": {
      "text/html": [
       "<div>\n",
       "<style scoped>\n",
       "    .dataframe tbody tr th:only-of-type {\n",
       "        vertical-align: middle;\n",
       "    }\n",
       "\n",
       "    .dataframe tbody tr th {\n",
       "        vertical-align: top;\n",
       "    }\n",
       "\n",
       "    .dataframe thead th {\n",
       "        text-align: right;\n",
       "    }\n",
       "</style>\n",
       "<table border=\"1\" class=\"dataframe\">\n",
       "  <thead>\n",
       "    <tr style=\"text-align: right;\">\n",
       "      <th></th>\n",
       "      <th>x1</th>\n",
       "      <th>x2</th>\n",
       "      <th>x3</th>\n",
       "      <th>x4</th>\n",
       "      <th>y</th>\n",
       "    </tr>\n",
       "  </thead>\n",
       "  <tbody>\n",
       "    <tr>\n",
       "      <th>0</th>\n",
       "      <td>5.1</td>\n",
       "      <td>3.5</td>\n",
       "      <td>1.4</td>\n",
       "      <td>0.2</td>\n",
       "      <td>0</td>\n",
       "    </tr>\n",
       "    <tr>\n",
       "      <th>1</th>\n",
       "      <td>4.9</td>\n",
       "      <td>3.0</td>\n",
       "      <td>1.4</td>\n",
       "      <td>0.2</td>\n",
       "      <td>0</td>\n",
       "    </tr>\n",
       "    <tr>\n",
       "      <th>2</th>\n",
       "      <td>4.7</td>\n",
       "      <td>3.2</td>\n",
       "      <td>1.3</td>\n",
       "      <td>0.2</td>\n",
       "      <td>0</td>\n",
       "    </tr>\n",
       "    <tr>\n",
       "      <th>3</th>\n",
       "      <td>4.6</td>\n",
       "      <td>3.1</td>\n",
       "      <td>1.5</td>\n",
       "      <td>0.2</td>\n",
       "      <td>0</td>\n",
       "    </tr>\n",
       "    <tr>\n",
       "      <th>4</th>\n",
       "      <td>5.0</td>\n",
       "      <td>3.6</td>\n",
       "      <td>1.4</td>\n",
       "      <td>0.2</td>\n",
       "      <td>0</td>\n",
       "    </tr>\n",
       "  </tbody>\n",
       "</table>\n",
       "</div>"
      ],
      "text/plain": [
       "    x1   x2   x3   x4  y\n",
       "0  5.1  3.5  1.4  0.2  0\n",
       "1  4.9  3.0  1.4  0.2  0\n",
       "2  4.7  3.2  1.3  0.2  0\n",
       "3  4.6  3.1  1.5  0.2  0\n",
       "4  5.0  3.6  1.4  0.2  0"
      ]
     },
     "execution_count": 91,
     "metadata": {},
     "output_type": "execute_result"
    }
   ],
   "source": [
    "df_class = pd.read_csv('./dataset/knn_classification.csv', sep=',')\n",
    "df_class.head()"
   ]
  },
  {
   "cell_type": "code",
   "execution_count": 92,
   "metadata": {},
   "outputs": [
    {
     "data": {
      "image/png": "[encoded data removed]",
      "text/plain": [
       "<Figure size 432x288 with 1 Axes>"
      ]
     },
     "metadata": {},
     "output_type": "display_data"
    }
   ],
   "source": [
    "classes = df_class['y'].unique()\n",
    "dataset = {c:[] for c in classes}\n",
    "for i, row in df.iterrows():\n",
    "    c = row['y']\n",
    "    dataset[c].append(list(row[:-1]))\n",
    "\n",
    "for i in dataset:\n",
    "    for ii in dataset[i]:\n",
    "        plt.scatter(ii[2],ii[3], s=100,color=cm.hot(i*100))\n",
    "plt.show()"
   ]
  },
  {
   "cell_type": "code",
   "execution_count": 97,
   "metadata": {},
   "outputs": [
    {
     "data": {
      "text/plain": [
       "{0: [[5.1, 3.5, 1.4, 0.2],\n",
       "  [4.9, 3.0, 1.4, 0.2],\n",
       "  [4.7, 3.2, 1.3, 0.2],\n",
       "  [4.6, 3.1, 1.5, 0.2],\n",
       "  [5.0, 3.6, 1.4, 0.2],\n",
       "  [5.4, 3.9, 1.7, 0.4],\n",
       "  [4.6, 3.4, 1.4, 0.3],\n",
       "  [5.0, 3.4, 1.5, 0.2],\n",
       "  [4.4, 2.9, 1.4, 0.2],\n",
       "  [4.9, 3.1, 1.5, 0.1],\n",
       "  [5.4, 3.7, 1.5, 0.2],\n",
       "  [4.8, 3.4, 1.6, 0.2],\n",
       "  [4.8, 3.0, 1.4, 0.1],\n",
       "  [4.3, 3.0, 1.1, 0.1],\n",
       "  [5.8, 4.0, 1.2, 0.2],\n",
       "  [5.7, 4.4, 1.5, 0.4],\n",
       "  [5.4, 3.9, 1.3, 0.4],\n",
       "  [5.1, 3.5, 1.4, 0.3],\n",
       "  [5.7, 3.8, 1.7, 0.3],\n",
       "  [5.1, 3.8, 1.5, 0.3],\n",
       "  [5.4, 3.4, 1.7, 0.2],\n",
       "  [5.1, 3.7, 1.5, 0.4],\n",
       "  [4.6, 3.6, 1.0, 0.2],\n",
       "  [5.1, 3.3, 1.7, 0.5],\n",
       "  [4.8, 3.4, 1.9, 0.2],\n",
       "  [5.0, 3.0, 1.6, 0.2],\n",
       "  [5.0, 3.4, 1.6, 0.4],\n",
       "  [5.2, 3.5, 1.5, 0.2],\n",
       "  [5.2, 3.4, 1.4, 0.2],\n",
       "  [4.7, 3.2, 1.6, 0.2],\n",
       "  [4.8, 3.1, 1.6, 0.2],\n",
       "  [5.4, 3.4, 1.5, 0.4],\n",
       "  [5.2, 4.1, 1.5, 0.1],\n",
       "  [5.5, 4.2, 1.4, 0.2],\n",
       "  [4.9, 3.1, 1.5, 0.1],\n",
       "  [5.0, 3.2, 1.2, 0.2],\n",
       "  [5.5, 3.5, 1.3, 0.2],\n",
       "  [4.9, 3.1, 1.5, 0.1],\n",
       "  [4.4, 3.0, 1.3, 0.2],\n",
       "  [5.1, 3.4, 1.5, 0.2],\n",
       "  [5.0, 3.5, 1.3, 0.3],\n",
       "  [4.5, 2.3, 1.3, 0.3],\n",
       "  [4.4, 3.2, 1.3, 0.2],\n",
       "  [5.0, 3.5, 1.6, 0.6],\n",
       "  [5.1, 3.8, 1.9, 0.4],\n",
       "  [4.8, 3.0, 1.4, 0.3],\n",
       "  [5.1, 3.8, 1.6, 0.2],\n",
       "  [4.6, 3.2, 1.4, 0.2],\n",
       "  [5.3, 3.7, 1.5, 0.2],\n",
       "  [5.0, 3.3, 1.4, 0.2]],\n",
       " 1: [[7.0, 3.2, 4.7, 1.4],\n",
       "  [6.4, 3.2, 4.5, 1.5],\n",
       "  [6.9, 3.1, 4.9, 1.5],\n",
       "  [5.5, 2.3, 4.0, 1.3],\n",
       "  [6.5, 2.8, 4.6, 1.5],\n",
       "  [5.7, 2.8, 4.5, 1.3],\n",
       "  [6.3, 3.3, 4.7, 1.6],\n",
       "  [4.9, 2.4, 3.3, 1.0],\n",
       "  [6.6, 2.9, 4.6, 1.3],\n",
       "  [5.2, 2.7, 3.9, 1.4],\n",
       "  [5.0, 2.0, 3.5, 1.0],\n",
       "  [5.9, 3.0, 4.2, 1.5],\n",
       "  [6.0, 2.2, 4.0, 1.0],\n",
       "  [6.1, 2.9, 4.7, 1.4],\n",
       "  [5.6, 2.9, 3.6, 1.3],\n",
       "  [6.7, 3.1, 4.4, 1.4],\n",
       "  [5.6, 3.0, 4.5, 1.5],\n",
       "  [5.8, 2.7, 4.1, 1.0],\n",
       "  [6.2, 2.2, 4.5, 1.5],\n",
       "  [5.6, 2.5, 3.9, 1.1],\n",
       "  [5.9, 3.2, 4.8, 1.8],\n",
       "  [6.1, 2.8, 4.0, 1.3],\n",
       "  [6.3, 2.5, 4.9, 1.5],\n",
       "  [6.1, 2.8, 4.7, 1.2],\n",
       "  [6.4, 2.9, 4.3, 1.3],\n",
       "  [6.6, 3.0, 4.4, 1.4],\n",
       "  [6.8, 2.8, 4.8, 1.4],\n",
       "  [6.7, 3.0, 5.0, 1.7],\n",
       "  [6.0, 2.9, 4.5, 1.5],\n",
       "  [5.7, 2.6, 3.5, 1.0],\n",
       "  [5.5, 2.4, 3.8, 1.1],\n",
       "  [5.5, 2.4, 3.7, 1.0],\n",
       "  [5.8, 2.7, 3.9, 1.2],\n",
       "  [6.0, 2.7, 5.1, 1.6],\n",
       "  [5.4, 3.0, 4.5, 1.5],\n",
       "  [6.0, 3.4, 4.5, 1.6],\n",
       "  [6.7, 3.1, 4.7, 1.5],\n",
       "  [6.3, 2.3, 4.4, 1.3],\n",
       "  [5.6, 3.0, 4.1, 1.3],\n",
       "  [5.5, 2.5, 4.0, 1.3],\n",
       "  [5.5, 2.6, 4.4, 1.2],\n",
       "  [6.1, 3.0, 4.6, 1.4],\n",
       "  [5.8, 2.6, 4.0, 1.2],\n",
       "  [5.0, 2.3, 3.3, 1.0],\n",
       "  [5.6, 2.7, 4.2, 1.3],\n",
       "  [5.7, 3.0, 4.2, 1.2],\n",
       "  [5.7, 2.9, 4.2, 1.3],\n",
       "  [6.2, 2.9, 4.3, 1.3],\n",
       "  [5.1, 2.5, 3.0, 1.1],\n",
       "  [5.7, 2.8, 4.1, 1.3]],\n",
       " 2: [[6.3, 3.3, 6.0, 2.5],\n",
       "  [5.8, 2.7, 5.1, 1.9],\n",
       "  [7.1, 3.0, 5.9, 2.1],\n",
       "  [6.3, 2.9, 5.6, 1.8],\n",
       "  [6.5, 3.0, 5.8, 2.2],\n",
       "  [7.6, 3.0, 6.6, 2.1],\n",
       "  [4.9, 2.5, 4.5, 1.7],\n",
       "  [7.3, 2.9, 6.3, 1.8],\n",
       "  [6.7, 2.5, 5.8, 1.8],\n",
       "  [7.2, 3.6, 6.1, 2.5],\n",
       "  [6.5, 3.2, 5.1, 2.0],\n",
       "  [6.4, 2.7, 5.3, 1.9],\n",
       "  [6.8, 3.0, 5.5, 2.1],\n",
       "  [5.7, 2.5, 5.0, 2.0],\n",
       "  [5.8, 2.8, 5.1, 2.4],\n",
       "  [6.4, 3.2, 5.3, 2.3],\n",
       "  [6.5, 3.0, 5.5, 1.8],\n",
       "  [7.7, 3.8, 6.7, 2.2],\n",
       "  [7.7, 2.6, 6.9, 2.3],\n",
       "  [6.0, 2.2, 5.0, 1.5],\n",
       "  [6.9, 3.2, 5.7, 2.3],\n",
       "  [5.6, 2.8, 4.9, 2.0],\n",
       "  [7.7, 2.8, 6.7, 2.0],\n",
       "  [6.3, 2.7, 4.9, 1.8],\n",
       "  [6.7, 3.3, 5.7, 2.1],\n",
       "  [7.2, 3.2, 6.0, 1.8],\n",
       "  [6.2, 2.8, 4.8, 1.8],\n",
       "  [6.1, 3.0, 4.9, 1.8],\n",
       "  [6.4, 2.8, 5.6, 2.1],\n",
       "  [7.2, 3.0, 5.8, 1.6],\n",
       "  [7.4, 2.8, 6.1, 1.9],\n",
       "  [7.9, 3.8, 6.4, 2.0],\n",
       "  [6.4, 2.8, 5.6, 2.2],\n",
       "  [6.3, 2.8, 5.1, 1.5],\n",
       "  [6.1, 2.6, 5.6, 1.4],\n",
       "  [7.7, 3.0, 6.1, 2.3],\n",
       "  [6.3, 3.4, 5.6, 2.4],\n",
       "  [6.4, 3.1, 5.5, 1.8],\n",
       "  [6.0, 3.0, 4.8, 1.8],\n",
       "  [6.9, 3.1, 5.4, 2.1],\n",
       "  [6.7, 3.1, 5.6, 2.4],\n",
       "  [6.9, 3.1, 5.1, 2.3],\n",
       "  [5.8, 2.7, 5.1, 1.9],\n",
       "  [6.8, 3.2, 5.9, 2.3],\n",
       "  [6.7, 3.3, 5.7, 2.5],\n",
       "  [6.7, 3.0, 5.2, 2.3],\n",
       "  [6.3, 2.5, 5.0, 1.9],\n",
       "  [6.5, 3.0, 5.2, 2.0],\n",
       "  [6.2, 3.4, 5.4, 2.3],\n",
       "  [5.9, 3.0, 5.1, 1.8]]}"
      ]
     },
     "execution_count": 97,
     "metadata": {},
     "output_type": "execute_result"
    }
   ],
   "source": [
    "dataset"
   ]
  },
  {
   "cell_type": "code",
   "execution_count": 93,
   "metadata": {},
   "outputs": [
    {
     "data": {
      "text/plain": [
       "x1    6.3\n",
       "x2    2.7\n",
       "x3    4.9\n",
       "x4    1.8\n",
       "y     2.0\n",
       "Name: 123, dtype: float64"
      ]
     },
     "execution_count": 93,
     "metadata": {},
     "output_type": "execute_result"
    }
   ],
   "source": [
    "df_class.iloc[123]"
   ]
  },
  {
   "cell_type": "code",
   "execution_count": 94,
   "metadata": {},
   "outputs": [],
   "source": [
    "df2 = df_class.drop([123])"
   ]
  },
  {
   "cell_type": "code",
   "execution_count": 95,
   "metadata": {},
   "outputs": [
    {
     "data": {
      "text/plain": [
       "x1    6.7\n",
       "x2    3.3\n",
       "x3    5.7\n",
       "x4    2.1\n",
       "y     2.0\n",
       "Name: 124, dtype: float64"
      ]
     },
     "execution_count": 95,
     "metadata": {},
     "output_type": "execute_result"
    }
   ],
   "source": [
    "df2.iloc[123]"
   ]
  },
  {
   "cell_type": "markdown",
   "metadata": {},
   "source": [
    "## KNN Regression"
   ]
  },
  {
   "cell_type": "code",
   "execution_count": 116,
   "metadata": {},
   "outputs": [],
   "source": [
    "df_reg = pd.read_csv('./dataset/knn_regression.csv', sep=',')\n",
    "data_reg = np.array(df_reg)"
   ]
  },
  {
   "cell_type": "code",
   "execution_count": 117,
   "metadata": {},
   "outputs": [],
   "source": [
    "def knn_reg(data,predict, k=2):\n",
    "    #if len(data) >= k:\n",
    "    #    warnings.warn('K is set to a value less than total voting groups!')\n",
    "    neighbors = []\n",
    "    for row in data:\n",
    "        features = row[:-1]\n",
    "        y = row[-1]\n",
    "        euclidean_distance = np.linalg.norm(np.array(features)-np.array(predict))\n",
    "        neighbors.append([euclidean_distance, y])\n",
    "    \n",
    "    votes = [i[1] for i in sorted(neighbors)[:k]]\n",
    "    vote_result = Counter(votes).most_common(1)[0][0]\n",
    "    return vote_result"
   ]
  },
  {
   "cell_type": "code",
   "execution_count": 118,
   "metadata": {},
   "outputs": [
    {
     "data": {
      "text/plain": [
       "1.8"
      ]
     },
     "execution_count": 118,
     "metadata": {},
     "output_type": "execute_result"
    }
   ],
   "source": [
    "knn_reg(data_reg, [6.3, 2.7, 4.91])"
   ]
  },
  {
   "cell_type": "code",
   "execution_count": 119,
   "metadata": {},
   "outputs": [
    {
     "data": {
      "text/plain": [
       "array([6.3, 2.7, 4.9, 1.8])"
      ]
     },
     "execution_count": 119,
     "metadata": {},
     "output_type": "execute_result"
    }
   ],
   "source": [
    "data_reg[123]"
   ]
  },
  {
   "cell_type": "code",
   "execution_count": 122,
   "metadata": {},
   "outputs": [],
   "source": [
    "a = np.array([1.8, 1.5, 1.5, 1.9, 1.2, 1.4, 1.6, 1.8, 1.5, 1.9])"
   ]
  },
  {
   "cell_type": "code",
   "execution_count": 123,
   "metadata": {},
   "outputs": [
    {
     "data": {
      "text/plain": [
       "1.6099999999999999"
      ]
     },
     "execution_count": 123,
     "metadata": {},
     "output_type": "execute_result"
    }
   ],
   "source": [
    "a.mean()"
   ]
  },
  {
   "cell_type": "code",
   "execution_count": null,
   "metadata": {},
   "outputs": [],
   "source": []
  }
 ],
 "metadata": {
  "kernelspec": {
   "display_name": "Python 3",
   "language": "python",
   "name": "python3"
  },
  "language_info": {
   "codemirror_mode": {
    "name": "ipython",
    "version": 3
   },
   "file_extension": ".py",
   "mimetype": "text/x-python",
   "name": "python",
   "nbconvert_exporter": "python",
   "pygments_lexer": "ipython3",
   "version": "3.7.1"
  }
 },
 "nbformat": 4,
 "nbformat_minor": 2
}
